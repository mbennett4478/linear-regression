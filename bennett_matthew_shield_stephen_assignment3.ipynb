{
 "cells": [
  {
   "cell_type": "code",
   "execution_count": 9,
   "metadata": {},
   "outputs": [
    {
     "name": "stdout",
     "output_type": "stream",
     "text": [
      "[1, 2]\n"
     ]
    }
   ],
   "source": [
    "import numpy as np\n",
    "from itertools import combinations_with_replacement as cwr\n",
    "import matplotlib.pyplot as plt\n",
    "\n",
    "def polynomialFeatures(X, degree):\n",
    "    output = np.array([])\n",
    "    for i in range(1, degree + 1):\n",
    "        temp = np.array(list(cwr(X,i)))\n",
    "        print(temp)\n",
    "        for j in range(len(temp)):\n",
    "            output = np.append(output, np.prod(temp[j]))\n",
    "    return output"
   ]
  },
  {
   "cell_type": "code",
   "execution_count": 2,
   "metadata": {},
   "outputs": [],
   "source": [
    "def mse(Y_true, Y_pred):\n",
    "    return"
   ]
  },
  {
   "cell_type": "code",
   "execution_count": 3,
   "metadata": {},
   "outputs": [],
   "source": [
    "def learning_curve(model, X, Y, cv, train_size=1, learning_rate=0.01, epochs=1000, tol=None, regularizer=None, lambd=0.0, **kwargs):\n",
    "    return"
   ]
  },
  {
   "cell_type": "code",
   "execution_count": 4,
   "metadata": {},
   "outputs": [],
   "source": [
    "def plot_polynomial_model_complexity(model, X, Y, cv, maxPolynomialDegree, learning_rate=0.01, epochs=1000, tol=None, regularized=None, lambd=0.0, **kwargs):\n",
    "    mse_train, mse_test = [], []\n",
    "    degree_list = list(range(1, maxPolynomialDegree + 1))\n",
    "    train_scores, val_scores = learning_curve(model, X, Y, cv, 1, learning_rate, epochs, tol, regularizer, lambd, **kwargs)\n",
    "\n",
    "    plt.figure(figsize=(10,6))\n",
    "    plt.plot(degreeList, val_scores, \"ro-\", alpha=1.0, linewidth=1.0, label=\"Test RMSE\")\n",
    "    plt.plot(degreeList, train_scores, \"bo-\", alpha=1.0, linewidth=1.0, label=\"Train RMSE\")\n",
    "    plt.xlabel(\"Degree\")\n",
    "    plt.ylabel(\"RMSE\")\n",
    "    plt.title(\"RMSE for Varying Degree\")\n",
    "    plt.show()"
   ]
  },
  {
   "cell_type": "code",
   "execution_count": 5,
   "metadata": {},
   "outputs": [],
   "source": [
    "class Linear_Regression:\n",
    "    def __init__(self):\n",
    "        pass\n",
    "    \n",
    "    def fit(self, X, Y, learning_rate=0.01, epochs=1000, tol=None, regularizer=None, lambd=0.0, **kwargs):\n",
    "        return\n",
    "    \n",
    "    def predict(self, X):\n",
    "        return"
   ]
  }
 ],
 "metadata": {
  "kernelspec": {
   "display_name": "Python 3",
   "language": "python",
   "name": "python3"
  },
  "language_info": {
   "codemirror_mode": {
    "name": "ipython",
    "version": 3
   },
   "file_extension": ".py",
   "mimetype": "text/x-python",
   "name": "python",
   "nbconvert_exporter": "python",
   "pygments_lexer": "ipython3",
   "version": "3.7.2"
  }
 },
 "nbformat": 4,
 "nbformat_minor": 2
}
