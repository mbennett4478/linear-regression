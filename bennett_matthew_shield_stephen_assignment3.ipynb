{
 "cells": [
  {
   "cell_type": "code",
   "execution_count": 1,
   "metadata": {},
   "outputs": [],
   "source": [
    "def polynomialFeatures(X, degree):\n",
    "    return"
   ]
  },
  {
   "cell_type": "code",
   "execution_count": 1,
   "metadata": {},
   "outputs": [],
   "source": [
    "def mse(Y_true, Y_pred):\n",
    "    return np.mean((Y_true-Y_pred)**2)"
   ]
  },
  {
   "cell_type": "code",
   "execution_count": 12,
   "metadata": {},
   "outputs": [],
   "source": [
    "def cross_validation(X,y,cv,model,**model_args):\n",
    "\n",
    "    seed=np.random.randint(1,500)\n",
    "    data=np.asarray(X)\n",
    "    labels=np.asarray(y)\n",
    "    np.random.seed(seed)\n",
    "    np.random.shuffle(data)\n",
    "    np.random.seed(seed)\n",
    "    np.random.shuffle(labels)\n",
    "    \n",
    "    datafolds=np.array_split(data,cv)\n",
    "    labelfolds=np.array_split(labels,cv)\n",
    "    training_scores=[]\n",
    "    validation_scores=[]\n",
    "    for fold in range(len(datafolds)):\n",
    "        trainingdatafolds=np.vstack([data for k, data in enumerate(datafolds) if k not in [fold]])\n",
    "        trainingdatafolds=trainingdatafolds.reshape(-1,data.shape[1])\n",
    "        trainingdata=np.empty((0,data.shape[1]), int)\n",
    "        trainingdata=np.append(trainingdata, trainingdatafolds, axis=0)\n",
    "        \n",
    "        traininglabelfolds=np.concatenate([label for k, label in enumerate(labelfolds) if k not in [fold]])\n",
    "        traininglabelfolds=traininglabelfolds.reshape(-1,1)\n",
    "        traininglabels=np.empty((0,1), int)\n",
    "        traininglabels=np.append(traininglabels, traininglabelfolds, axis=0)\n",
    "    \n",
    "        validationdata=datafolds[fold]\n",
    "        validationlabels=labelfolds[fold]\n",
    "        \n",
    "        calledmodel=model()\n",
    "        calledmodel.fit(trainingdata,traininglabels)\n",
    "        train_preds =calledmodel.predict(trainingdata)\n",
    "        validation_preds = calledmodel.predict(validationdata)\n",
    "        training_scores.append(mse(traininglabels,train_preds))\n",
    "        validation_scores.append(mse(validationlabels,validation_preds))\n",
    "\n",
    "    return np.mean(training_scores), np.mean(validation_scores)\n",
    "\n",
    "\n",
    "def learning_curve(model, X, y, cv, train_size=1, learning_rate=0.01, epochs=1000, tol=None, regularizer=None, lambd=0.0, **kwargs):\n",
    "    training_scores=[]\n",
    "    validation_scores=[]\n",
    "    if train_size >= 1:\n",
    "        index=train_size\n",
    "        while index < len(y):\n",
    "            X_subset=X[0:index,:]\n",
    "            y_subset=y[0:index]\n",
    "            train, val=cross_validation(X_subset,y_subset,cv,model,**model_args)\n",
    "            training_scores.append(train)\n",
    "            validation_scores.append(val)\n",
    "            index += index\n",
    "    else:\n",
    "        index=len(X) - int(round(len(X) * train_size))\n",
    "        while index < 1:\n",
    "            X_subset=X[0:index,:]\n",
    "            y_subset=y[0:index]\n",
    "            train, val=cross_validation(X_subset,y_subset,cv,model,**model_args)\n",
    "            training_scores.append(train)\n",
    "            validation_scores.append(val)\n",
    "            index += index\n",
    "    \n",
    "    return training_scores, validation_scores\n",
    " \n",
    "\n"
   ]
  },
  {
   "cell_type": "code",
   "execution_count": 4,
   "metadata": {},
   "outputs": [],
   "source": [
    "def plot_polynomial_model_complexity(model, X, Y, cv, maxPolynomialDegree, learning_rate=0.01, epochs=1000, tol=None, regularized=None, lambd=0.0, **kwargs):\n",
    "    return"
   ]
  },
  {
   "cell_type": "code",
   "execution_count": 2,
   "metadata": {},
   "outputs": [],
   "source": [
    "class Linear_Regression:\n",
    "    def __init__(self):\n",
    "        pass\n",
    "    \n",
    "    def fit(self, X, Y, learning_rate=0.01, epochs=1000, tol=None, regularizer=None, lambd=0.0, **kwargs):\n",
    "        return\n",
    "    \n",
    "    def predict(self, X):\n",
    "        return"
   ]
  },
  {
   "cell_type": "code",
   "execution_count": null,
   "metadata": {},
   "outputs": [],
   "source": [
    "\n"
   ]
  },
  {
   "cell_type": "code",
   "execution_count": null,
   "metadata": {},
   "outputs": [],
   "source": []
  }
 ],
 "metadata": {
  "kernelspec": {
   "display_name": "Python 3",
   "language": "python",
   "name": "python3"
  },
  "language_info": {
   "codemirror_mode": {
    "name": "ipython",
    "version": 3
   },
   "file_extension": ".py",
   "mimetype": "text/x-python",
   "name": "python",
   "nbconvert_exporter": "python",
   "pygments_lexer": "ipython3",
   "version": "3.6.3"
  }
 },
 "nbformat": 4,
 "nbformat_minor": 2
}
